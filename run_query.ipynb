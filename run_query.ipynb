{
 "cells": [
  {
   "cell_type": "code",
   "execution_count": 1,
   "metadata": {},
   "outputs": [],
   "source": [
    "import sqlite3\n",
    "from prettytable import PrettyTable, HRuleStyle"
   ]
  },
  {
   "cell_type": "code",
   "execution_count": 2,
   "metadata": {},
   "outputs": [],
   "source": [
    "# Connect to the SQLite database (sample.db)\n",
    "conn = sqlite3.connect('sample.db')\n",
    "cursor = conn.cursor()"
   ]
  },
  {
   "cell_type": "code",
   "execution_count": 3,
   "metadata": {},
   "outputs": [
    {
     "data": {
      "text/plain": [
       "<sqlite3.Cursor at 0x105e27340>"
      ]
     },
     "execution_count": 3,
     "metadata": {},
     "output_type": "execute_result"
    }
   ],
   "source": [
    "# Step 1: Create Indexes for Faster Querying\n",
    "cursor.execute('CREATE INDEX IF NOT EXISTS idx_product_id ON ProductData (ProductID);')\n",
    "cursor.execute('CREATE INDEX IF NOT EXISTS idx_milestone_product ON MilestoneData (ProductID);')\n",
    "cursor.execute('CREATE INDEX IF NOT EXISTS idx_engineering_product ON EngineeringData (ProductID);')\n",
    "cursor.execute('CREATE INDEX IF NOT EXISTS idx_supply_product ON SupplyChainData (ProductID);')"
   ]
  },
  {
   "cell_type": "code",
   "execution_count": 4,
   "metadata": {},
   "outputs": [],
   "source": [
    "# Step 2: Define the SQL Query with Common Table Expressions (CTEs)\n",
    "query = '''\n",
    "WITH MilestoneCompletion AS (\n",
    "    SELECT \n",
    "        ProductID,\n",
    "        COUNT(*) AS TotalMilestones,\n",
    "        SUM(CASE WHEN Status = 'Completed' THEN 1 ELSE 0 END) AS CompletedMilestones,\n",
    "        ROUND(100.0 * SUM(CASE WHEN Status = 'Completed' THEN 1 ELSE 0 END) / COUNT(*), 2) AS CompletionRate\n",
    "    FROM MilestoneData\n",
    "    GROUP BY ProductID\n",
    "),\n",
    "EngineeringCompliance AS (\n",
    "    SELECT \n",
    "        ProductID,\n",
    "        AVG(ComplianceScore) AS AvgComplianceScore\n",
    "    FROM EngineeringData\n",
    "    GROUP BY ProductID\n",
    "),\n",
    "SupplyChainReadiness AS (\n",
    "    SELECT \n",
    "        ProductID,\n",
    "        COUNT(CASE WHEN AvailabilityStatus = 'Available' THEN 1 END) * 100.0 / COUNT(*) AS ReadinessScore\n",
    "    FROM SupplyChainData\n",
    "    GROUP BY ProductID\n",
    ")\n",
    "\n",
    "SELECT \n",
    "    p.ProductID, \n",
    "    p.ProductName, \n",
    "    p.CurrentStage, \n",
    "    m.CompletionRate AS MilestoneCompletion, \n",
    "    e.AvgComplianceScore AS EngineeringCompliance, \n",
    "    s.ReadinessScore AS SupplierReadiness\n",
    "FROM ProductData p\n",
    "LEFT JOIN MilestoneCompletion m ON p.ProductID = m.ProductID\n",
    "LEFT JOIN EngineeringCompliance e ON p.ProductID = e.ProductID\n",
    "LEFT JOIN SupplyChainReadiness s ON p.ProductID = s.ProductID\n",
    "WHERE p.LaunchDate > DATE('now') -- Filter for upcoming product launches\n",
    "ORDER BY MilestoneCompletion DESC, EngineeringCompliance DESC;\n",
    "'''"
   ]
  },
  {
   "cell_type": "code",
   "execution_count": 5,
   "metadata": {},
   "outputs": [],
   "source": [
    "# Step 3: Execute the query\n",
    "cursor.execute(query)\n",
    "\n",
    "# Fetch the results\n",
    "rows = cursor.fetchall()"
   ]
  },
  {
   "cell_type": "code",
   "execution_count": 6,
   "metadata": {},
   "outputs": [
    {
     "name": "stdout",
     "output_type": "stream",
     "text": [
      "+-----------+---------------------------+-------------------+---------------------+-----------------------+-------------------+\n",
      "| \u001b[33mProductID\u001b[0m |        \u001b[33mProductName\u001b[0m        |    \u001b[33mCurrentStage\u001b[0m   | \u001b[33mMilestoneCompletion\u001b[0m | \u001b[33mEngineeringCompliance\u001b[0m | \u001b[33mSupplierReadiness\u001b[0m |\n",
      "+-----------+---------------------------+-------------------+---------------------+-----------------------+-------------------+\n",
      "|    102    |    Hybrid Engine System   |   Final Approval  |        100.0        |          92.3         |        50.0       |\n",
      "+-----------+---------------------------+-------------------+---------------------+-----------------------+-------------------+\n",
      "|    101    |    Electric SUV Battery   |   Testing Phase   |        66.67        |          85.5         |       100.0       |\n",
      "+-----------+---------------------------+-------------------+---------------------+-----------------------+-------------------+\n",
      "|    104    | Electric Motor Controller |    Design Phase   |         50.0        |          88.0         |       100.0       |\n",
      "+-----------+---------------------------+-------------------+---------------------+-----------------------+-------------------+\n",
      "|    105    | Battery Management System | Prototype Testing |         0.0         |          91.5         |        50.0       |\n",
      "+-----------+---------------------------+-------------------+---------------------+-----------------------+-------------------+\n",
      "|    103    |   Autonomous Driving AI   |  Prototype Design |         0.0         |          78.0         |        0.0        |\n",
      "+-----------+---------------------------+-------------------+---------------------+-----------------------+-------------------+\n"
     ]
    }
   ],
   "source": [
    "# Create a PrettyTable object\n",
    "table = PrettyTable()\n",
    "\n",
    "# Define column names for the table\n",
    "table.field_names = [f\"\\033[33m{field}\\033[0m\" for field in [\"ProductID\", \"ProductName\", \"CurrentStage\", \"MilestoneCompletion\", \"EngineeringCompliance\", \"SupplierReadiness\"]]\n",
    "\n",
    "# Add rows to the table\n",
    "for row in rows:\n",
    "    table.add_row(row)\n",
    "\n",
    "# Set horizontal rule style (you can choose HRuleStyle.ALL, HRuleStyle.HEADER, etc.)\n",
    "table.hrules = HRuleStyle.ALL  # Applies horizontal rules to all rows\n",
    "\n",
    "# Print the table\n",
    "print(table)"
   ]
  },
  {
   "cell_type": "code",
   "execution_count": 7,
   "metadata": {},
   "outputs": [],
   "source": [
    "# Close the connection\n",
    "conn.close()"
   ]
  }
 ],
 "metadata": {
  "kernelspec": {
   "display_name": ".venv",
   "language": "python",
   "name": "python3"
  },
  "language_info": {
   "codemirror_mode": {
    "name": "ipython",
    "version": 3
   },
   "file_extension": ".py",
   "mimetype": "text/x-python",
   "name": "python",
   "nbconvert_exporter": "python",
   "pygments_lexer": "ipython3",
   "version": "3.13.0"
  }
 },
 "nbformat": 4,
 "nbformat_minor": 2
}
