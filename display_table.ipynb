{
 "cells": [
  {
   "cell_type": "code",
   "execution_count": 1,
   "metadata": {},
   "outputs": [],
   "source": [
    "import sqlite3\n",
    "from prettytable import PrettyTable, HRuleStyle"
   ]
  },
  {
   "cell_type": "code",
   "execution_count": 2,
   "metadata": {},
   "outputs": [],
   "source": [
    "# Connect to the SQLite database (sample.db)\n",
    "conn = sqlite3.connect('sample.db')\n",
    "cursor = conn.cursor()"
   ]
  },
  {
   "cell_type": "code",
   "execution_count": 3,
   "metadata": {},
   "outputs": [],
   "source": [
    "# Step 1: Fetch the list of table names from the sqlite_master table\n",
    "cursor.execute(\"SELECT name FROM sqlite_master WHERE type='table';\")\n",
    "tables = cursor.fetchall()"
   ]
  },
  {
   "cell_type": "code",
   "execution_count": 4,
   "metadata": {},
   "outputs": [
    {
     "name": "stdout",
     "output_type": "stream",
     "text": [
      "+------------------------------------------------------------------------+\n",
      "|                              \u001b[31mProductData\u001b[0m                               |\n",
      "+-----------+---------------------------+-------------------+------------+\n",
      "| \u001b[33mProductID\u001b[0m |        \u001b[33mProductName\u001b[0m        |    \u001b[33mCurrentStage\u001b[0m   | \u001b[33mLaunchDate\u001b[0m |\n",
      "+-----------+---------------------------+-------------------+------------+\n",
      "|    101    |    Electric SUV Battery   |   Testing Phase   | 2025-06-15 |\n",
      "+-----------+---------------------------+-------------------+------------+\n",
      "|    102    |    Hybrid Engine System   |   Final Approval  | 2025-09-20 |\n",
      "+-----------+---------------------------+-------------------+------------+\n",
      "|    103    |   Autonomous Driving AI   |  Prototype Design | 2026-01-10 |\n",
      "+-----------+---------------------------+-------------------+------------+\n",
      "|    104    | Electric Motor Controller |    Design Phase   | 2025-12-01 |\n",
      "+-----------+---------------------------+-------------------+------------+\n",
      "|    105    | Battery Management System | Prototype Testing | 2026-04-10 |\n",
      "+-----------+---------------------------+-------------------+------------+\n",
      "+---------------------------------------------------------------+\n",
      "|                         \u001b[31mMilestoneData\u001b[0m                         |\n",
      "+-------------+-----------+-----------------------+-------------+\n",
      "| \u001b[33mMilestoneID\u001b[0m | \u001b[33mProductID\u001b[0m |     \u001b[33mMilestoneName\u001b[0m     |    \u001b[33mStatus\u001b[0m   |\n",
      "+-------------+-----------+-----------------------+-------------+\n",
      "|      1      |    101    |    Concept Approval   |  Completed  |\n",
      "+-------------+-----------+-----------------------+-------------+\n",
      "|      2      |    101    |   Initial Prototype   |  Completed  |\n",
      "+-------------+-----------+-----------------------+-------------+\n",
      "|      3      |    101    |        Testing        | In Progress |\n",
      "+-------------+-----------+-----------------------+-------------+\n",
      "|      4      |    102    |   Supplier Agreement  |  Completed  |\n",
      "+-------------+-----------+-----------------------+-------------+\n",
      "|      5      |    102    |     Crash Testing     |  Completed  |\n",
      "+-------------+-----------+-----------------------+-------------+\n",
      "|      6      |    103    |      AI Training      | In Progress |\n",
      "+-------------+-----------+-----------------------+-------------+\n",
      "|      7      |    104    | Initial Design Review |  Completed  |\n",
      "+-------------+-----------+-----------------------+-------------+\n",
      "|      8      |    104    | Prototype Fabrication | In Progress |\n",
      "+-------------+-----------+-----------------------+-------------+\n",
      "|      9      |    105    |   Initial Prototype   | In Progress |\n",
      "+-------------+-----------+-----------------------+-------------+\n",
      "|      10     |    105    |     Testing Phase     |   Planned   |\n",
      "+-------------+-----------+-----------------------+-------------+\n",
      "+---------------------------------------------+\n",
      "|               \u001b[31mEngineeringData\u001b[0m               |\n",
      "+---------------+-----------+-----------------+\n",
      "| \u001b[33mEngineeringID\u001b[0m | \u001b[33mProductID\u001b[0m | \u001b[33mComplianceScore\u001b[0m |\n",
      "+---------------+-----------+-----------------+\n",
      "|       1       |    101    |       85.5      |\n",
      "+---------------+-----------+-----------------+\n",
      "|       2       |    102    |       92.3      |\n",
      "+---------------+-----------+-----------------+\n",
      "|       3       |    103    |       78.0      |\n",
      "+---------------+-----------+-----------------+\n",
      "|       4       |    104    |       88.0      |\n",
      "+---------------+-----------+-----------------+\n",
      "|       5       |    105    |       91.5      |\n",
      "+---------------+-----------+-----------------+\n",
      "+--------------------------------------------------------------+\n",
      "|                       \u001b[31mSupplyChainData\u001b[0m                        |\n",
      "+----------+-----------+------------------+--------------------+\n",
      "| \u001b[33mSupplyID\u001b[0m | \u001b[33mProductID\u001b[0m |   \u001b[33mSupplierName\u001b[0m   | \u001b[33mAvailabilityStatus\u001b[0m |\n",
      "+----------+-----------+------------------+--------------------+\n",
      "|    1     |    101    |   LG Batteries   |     Available      |\n",
      "+----------+-----------+------------------+--------------------+\n",
      "|    2     |    101    | Tesla Components |     Available      |\n",
      "+----------+-----------+------------------+--------------------+\n",
      "|    3     |    102    |      Bosch       |    Unavailable     |\n",
      "+----------+-----------+------------------+--------------------+\n",
      "|    4     |    102    |   Continental    |     Available      |\n",
      "+----------+-----------+------------------+--------------------+\n",
      "|    5     |    103    |   NVIDIA Chips   |    Unavailable     |\n",
      "+----------+-----------+------------------+--------------------+\n",
      "|    6     |    104    |     Siemens      |     Available      |\n",
      "+----------+-----------+------------------+--------------------+\n",
      "|    7     |    105    |    Panasonic     |     Available      |\n",
      "+----------+-----------+------------------+--------------------+\n",
      "|    8     |    105    |     LG Chem      |    Unavailable     |\n",
      "+----------+-----------+------------------+--------------------+\n"
     ]
    }
   ],
   "source": [
    "# Step 2: Loop through each table and display its contents\n",
    "for table_name in tables:\n",
    "    table_name = table_name[0]  # Extract table name from tuple\n",
    "    # print(f\"\\nDisplaying contents of table: {table_name}\")\n",
    "    \n",
    "    # Step 3: Fetch column names for the current table\n",
    "    cursor.execute(f\"PRAGMA table_info({table_name});\")\n",
    "    columns = cursor.fetchall()\n",
    "    field_names = [col[1] for col in columns]  # Extract column names\n",
    "    \n",
    "    # Step 4: Fetch all rows from the table\n",
    "    cursor.execute(f\"SELECT * FROM {table_name};\")\n",
    "    rows = cursor.fetchall()\n",
    "    \n",
    "    # Step 5: Create a PrettyTable object\n",
    "    table = PrettyTable()\n",
    "    table.title = f\"\\033[31m{table_name}\\033[0m\"\n",
    "    table.hrules = HRuleStyle.ALL\n",
    "\n",
    "    # Apply yellow color to the field names using f-strings\n",
    "    table.field_names = [f\"\\033[33m{field}\\033[0m\" for field in field_names]\n",
    "\n",
    "    # Step 6: Add rows to the table\n",
    "    for row in rows:\n",
    "        table.add_row(row)\n",
    "\n",
    "    # Step 7: Print the table\n",
    "    print(table)"
   ]
  },
  {
   "cell_type": "code",
   "execution_count": 5,
   "metadata": {},
   "outputs": [],
   "source": [
    "# Close the connection\n",
    "conn.close()"
   ]
  }
 ],
 "metadata": {
  "kernelspec": {
   "display_name": ".venv",
   "language": "python",
   "name": "python3"
  },
  "language_info": {
   "codemirror_mode": {
    "name": "ipython",
    "version": 3
   },
   "file_extension": ".py",
   "mimetype": "text/x-python",
   "name": "python",
   "nbconvert_exporter": "python",
   "pygments_lexer": "ipython3",
   "version": "3.13.0"
  }
 },
 "nbformat": 4,
 "nbformat_minor": 2
}
